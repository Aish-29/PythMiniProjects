{
 "cells": [
  {
   "cell_type": "code",
   "execution_count": 1,
   "id": "e594f341",
   "metadata": {},
   "outputs": [
    {
     "name": "stdout",
     "output_type": "stream",
     "text": [
      "Enter a number between 1 and 103\n",
      "OOPS! Guess Again. Too High \n",
      "Enter a number between 1 and 101\n",
      "YAY! You guessed the correct Number 1\n"
     ]
    }
   ],
   "source": [
    "import random\n",
    "\n",
    "def guess(x):\n",
    "    rand_num = random.randint(1,x)\n",
    "    guess = 0\n",
    "    while(rand_num != guess):\n",
    "        guess = int(input(f'Enter a number between 1 and {x}'))\n",
    "        if(guess < rand_num):\n",
    "            print(\"OOPS! Guess Again. Too low \")\n",
    "        elif(guess > rand_num):\n",
    "            print(\"OOPS! Guess Again. Too High \")\n",
    "        else:\n",
    "            break\n",
    "    print(f\"YAY! You guessed the correct Number {rand_num}\")\n",
    "        \n",
    "    \n",
    "guess(10)\n",
    "        \n",
    "        "
   ]
  },
  {
   "cell_type": "code",
   "execution_count": null,
   "id": "1ba44c2e",
   "metadata": {},
   "outputs": [],
   "source": []
  }
 ],
 "metadata": {
  "kernelspec": {
   "display_name": "Python 3 (ipykernel)",
   "language": "python",
   "name": "python3"
  },
  "language_info": {
   "codemirror_mode": {
    "name": "ipython",
    "version": 3
   },
   "file_extension": ".py",
   "mimetype": "text/x-python",
   "name": "python",
   "nbconvert_exporter": "python",
   "pygments_lexer": "ipython3",
   "version": "3.9.12"
  }
 },
 "nbformat": 4,
 "nbformat_minor": 5
}
