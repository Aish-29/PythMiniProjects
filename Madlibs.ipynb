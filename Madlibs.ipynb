{
 "cells": [
  {
   "cell_type": "code",
   "execution_count": 1,
   "id": "7866f23f",
   "metadata": {},
   "outputs": [
    {
     "name": "stdout",
     "output_type": "stream",
     "text": [
      "Enter a Name: Aish\n",
      "Enter Hobby: Cricket\n",
      "Hey Aish! Did you play Cricket\n"
     ]
    }
   ],
   "source": [
    "inp = input(\"Enter a Name: \")\n",
    "inp1 = input('Enter Hobby: ')\n",
    "print(f'Hey {inp}! Did you play {inp1} Today?' )"
   ]
  },
  {
   "cell_type": "code",
   "execution_count": null,
   "id": "fe9babe7",
   "metadata": {},
   "outputs": [],
   "source": []
  }
 ],
 "metadata": {
  "kernelspec": {
   "display_name": "Python 3 (ipykernel)",
   "language": "python",
   "name": "python3"
  },
  "language_info": {
   "codemirror_mode": {
    "name": "ipython",
    "version": 3
   },
   "file_extension": ".py",
   "mimetype": "text/x-python",
   "name": "python",
   "nbconvert_exporter": "python",
   "pygments_lexer": "ipython3",
   "version": "3.9.12"
  }
 },
 "nbformat": 4,
 "nbformat_minor": 5
}
