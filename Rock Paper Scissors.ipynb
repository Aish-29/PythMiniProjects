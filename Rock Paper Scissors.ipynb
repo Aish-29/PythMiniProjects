{
 "cells": [
  {
   "cell_type": "code",
   "execution_count": null,
   "id": "b8f232d5",
   "metadata": {},
   "outputs": [],
   "source": [
    "import random\n",
    "\n",
    "\n",
    "\n",
    "def play():\n",
    "    user = input(\"What's your choice? 'r' is for Rock, 'p' is for paper and 's' is for scissors\\n\")\n",
    "\n",
    "    computer = random.choice(['r','p','s'])\n",
    "\n",
    "    if user == computer:\n",
    "        print(\"It's a Tie!\")\n",
    "\n",
    "    if is_win(user, computer):\n",
    "        return 'You Won!'\n",
    "    return 'You Lost!'\n",
    "\n",
    "def is_win(player,opponent):\n",
    "    if(player == 'r' and opponent == 's' or player == 's' and opponent == 'p' or player == 'p' and opponent == 'r'):\n",
    "        return True\n",
    "    \n",
    "play()"
   ]
  },
  {
   "cell_type": "code",
   "execution_count": null,
   "id": "1a8f4ee9",
   "metadata": {},
   "outputs": [],
   "source": []
  }
 ],
 "metadata": {
  "kernelspec": {
   "display_name": "Python 3 (ipykernel)",
   "language": "python",
   "name": "python3"
  },
  "language_info": {
   "codemirror_mode": {
    "name": "ipython",
    "version": 3
   },
   "file_extension": ".py",
   "mimetype": "text/x-python",
   "name": "python",
   "nbconvert_exporter": "python",
   "pygments_lexer": "ipython3",
   "version": "3.9.12"
  }
 },
 "nbformat": 4,
 "nbformat_minor": 5
}
